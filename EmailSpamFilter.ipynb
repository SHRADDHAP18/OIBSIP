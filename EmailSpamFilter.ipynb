{
  "nbformat": 4,
  "nbformat_minor": 0,
  "metadata": {
    "colab": {
      "provenance": []
    },
    "kernelspec": {
      "name": "python3",
      "display_name": "Python 3"
    },
    "language_info": {
      "name": "python"
    }
  },
  "cells": [
    {
      "cell_type": "markdown",
      "source": [
        "**OASIS INFOBYTE DATA SCIENCE INTERNSHIP**\n",
        "\n",
        "*TASK 4: EMAIL SPAM DETECTION*\n",
        "\n",
        "\n",
        "**NAME: SHRADDHA PANDEY**\n",
        "\n",
        "**BATCH: FEBRUARY P2**\n",
        "\n"
      ],
      "metadata": {
        "id": "WCTGraT8LKDE"
      }
    },
    {
      "cell_type": "code",
      "execution_count": null,
      "metadata": {
        "id": "Ki2os_cUFdyv"
      },
      "outputs": [],
      "source": [
        "import numpy as np\n",
        "import pandas as pd\n",
        "from sklearn.model_selection import train_test_split\n",
        "from sklearn.feature_extraction.text import TfidfVectorizer #transforming text to numbers/numerical for ml algos to work\n",
        "from sklearn.linear_model import LogisticRegression #importing regression algorithm\n",
        "from sklearn.metrics import accuracy_score #importing performance metric to check accuracy\n",
        "import io\n",
        "\n",
        "df = pd.read_csv('/spam1.csv')\n",
        "print(df)\n",
        "\n",
        "data = df.where((pd.notnull(df)), '') #converting data to not null\n"
      ]
    },
    {
      "cell_type": "code",
      "source": [
        "data.head() #just to display the starting column/rows"
      ],
      "metadata": {
        "id": "U4jaBODL2lR6"
      },
      "execution_count": null,
      "outputs": []
    },
    {
      "cell_type": "code",
      "source": [
        "data.info() #to simply get the info about our data"
      ],
      "metadata": {
        "id": "VQue1NQw3Ctx"
      },
      "execution_count": null,
      "outputs": []
    },
    {
      "cell_type": "code",
      "source": [
        "data.loc[data['v1'] == 'spam','v1',]= 0 #basically assigning any value to 'spam' msgs that you want to display\n",
        "data.loc[data['v1'] == 'ham','v1',]= 1  #basically assigning any value to 'ham' msgs that you want to display"
      ],
      "metadata": {
        "id": "IhphCMPI3Qbp"
      },
      "execution_count": null,
      "outputs": []
    },
    {
      "cell_type": "code",
      "source": [
        "z= data['v2']     #v2 is 'Messages'\n",
        "s= data['v1']     #v1 is 'Categories'"
      ],
      "metadata": {
        "id": "lP9Nz0dQ4O3i"
      },
      "execution_count": null,
      "outputs": []
    },
    {
      "cell_type": "code",
      "source": [
        "print(z)"
      ],
      "metadata": {
        "id": "UTl_iUC94iZR"
      },
      "execution_count": null,
      "outputs": []
    },
    {
      "cell_type": "code",
      "source": [
        "print(s)"
      ],
      "metadata": {
        "id": "vqMbz1Zd4nM-"
      },
      "execution_count": null,
      "outputs": []
    },
    {
      "cell_type": "code",
      "source": [
        "z_train, z_test, s_train, s_test = train_test_split(z,s, test_size=0.2, random_state = 3)  #training and testing the data, 80% data is trained and 20% data is tested\n"
      ],
      "metadata": {
        "id": "UJpoIyCu48bY"
      },
      "execution_count": null,
      "outputs": []
    },
    {
      "cell_type": "code",
      "source": [
        "print(z.shape) #display total no of rows\n",
        "print(z_train.shape) #display total no of 'training' rows\n",
        "print(z_test.shape) #display total no of 'testing' rows"
      ],
      "metadata": {
        "id": "481VH76n56Hj"
      },
      "execution_count": null,
      "outputs": []
    },
    {
      "cell_type": "code",
      "source": [
        "print(s.shape) #display total no of rows\n",
        "print(s_train.shape) #display total no of 'training' rows\n",
        "print(s_test.shape) #display total no of 'testing' rows"
      ],
      "metadata": {
        "id": "ZCGXgTlv6iLE"
      },
      "execution_count": null,
      "outputs": []
    },
    {
      "cell_type": "code",
      "source": [
        "feature_extraction = TfidfVectorizer(min_df = 1, stop_words = 'english', lowercase= True)\n",
        "#usinf the TfidfVectorizer to ocnvert the rawa data\n",
        "\n",
        "z_train_features = feature_extraction.fit_transform(z_train)\n",
        "z_test_features = feature_extraction.transform(z_test)\n",
        "\n",
        "s_train = s_train.astype('int')\n",
        "s_test = s_test.astype('int')"
      ],
      "metadata": {
        "id": "LvRM-TDZ6sZQ"
      },
      "execution_count": null,
      "outputs": []
    },
    {
      "cell_type": "code",
      "source": [
        "print(z_train)"
      ],
      "metadata": {
        "id": "wUKh_5yf_lz9"
      },
      "execution_count": null,
      "outputs": []
    },
    {
      "cell_type": "code",
      "source": [
        "print(z_train_features)"
      ],
      "metadata": {
        "id": "7co9t-9s_rMZ"
      },
      "execution_count": null,
      "outputs": []
    },
    {
      "cell_type": "code",
      "source": [
        "model = LogisticRegression()"
      ],
      "metadata": {
        "id": "lJmPtdruADgv"
      },
      "execution_count": null,
      "outputs": []
    },
    {
      "cell_type": "code",
      "source": [
        "model.fit(z_train_features,s_train)"
      ],
      "metadata": {
        "id": "Gxb0pOGBAU56"
      },
      "execution_count": null,
      "outputs": []
    },
    {
      "cell_type": "code",
      "source": [
        "predict_on_training_data = model.predict(z_train_features)\n",
        "accuracy_on_training_data = accuracy_score(s_train,predict_on_training_data )\n",
        "\n",
        "#predicting the training data's accuracy"
      ],
      "metadata": {
        "id": "DblpbPpDAdEa"
      },
      "execution_count": null,
      "outputs": []
    },
    {
      "cell_type": "code",
      "source": [
        "print('accuracy on training data: ',accuracy_on_training_data )#testing the model's accuracy"
      ],
      "metadata": {
        "id": "teL0_vRaDgsZ"
      },
      "execution_count": null,
      "outputs": []
    },
    {
      "cell_type": "code",
      "source": [
        "predict_on_testing_data = model.predict(z_test_features)\n",
        "accuracy_on_testing_data = accuracy_score(s_test,predict_on_testing_data )\n",
        "\n",
        "#predicting the testing data's accuracy"
      ],
      "metadata": {
        "id": "RSUcHsISD0eS"
      },
      "execution_count": null,
      "outputs": []
    },
    {
      "cell_type": "code",
      "source": [
        "print('accuracy on tesring data: ',accuracy_on_testing_data )#testing the model's accuracy"
      ],
      "metadata": {
        "id": "ue_JVBdoD_1_"
      },
      "execution_count": null,
      "outputs": []
    },
    {
      "cell_type": "code",
      "source": [
        "#Finally testing the model\n",
        "\n",
        "input = [\"Free entry in 2 a wkly comp to win FA Cup final tkts 21st May 2005. Text FA to 87121 to receive entry question(std txt rate)T&C's apply 08452810075over18's \"]\n",
        "input_data_features = feature_extraction.transform(input)\n",
        "predict = model.predict(input_data_features)\n",
        "print(predict)\n",
        "\n",
        "if (predict [0]==1):\n",
        "  print('This is HAM message')\n",
        "else:\n",
        "  print('This is a SPAM message')"
      ],
      "metadata": {
        "colab": {
          "base_uri": "https://localhost:8080/"
        },
        "id": "wWbkF_fAEqVm",
        "outputId": "71967f9f-05c1-4918-b0ac-dc0483b1369a"
      },
      "execution_count": null,
      "outputs": [
        {
          "output_type": "stream",
          "name": "stdout",
          "text": [
            "[0]\n",
            "spam\n"
          ]
        }
      ]
    },
    {
      "cell_type": "code",
      "source": [
        "#Finally testing the model\n",
        "\n",
        "input = [\"Hi How are you?\"]\n",
        "input_data_features = feature_extraction.transform(input)\n",
        "predict = model.predict(input_data_features)\n",
        "print(predict)\n",
        "\n",
        "if (predict [0]==1):\n",
        "  print('This is HAM message')\n",
        "else:\n",
        "  print('This is a SPAM message')"
      ],
      "metadata": {
        "colab": {
          "base_uri": "https://localhost:8080/"
        },
        "id": "wdgFvetgKWAq",
        "outputId": "a4793e78-3fd7-423a-99e4-49842967d1ba"
      },
      "execution_count": null,
      "outputs": [
        {
          "output_type": "stream",
          "name": "stdout",
          "text": [
            "[1]\n",
            "ham\n"
          ]
        }
      ]
    },
    {
      "cell_type": "code",
      "source": [
        "#Finally testing the model\n",
        "\n",
        "input = [\"I AM ELON MUSK YOU HAVE WON $1000 HURRAY!!\"]\n",
        "input_data_features = feature_extraction.transform(input)\n",
        "predict = model.predict(input_data_features)\n",
        "print(predict)\n",
        "\n",
        "if (predict [0]==1):\n",
        "  print('This is HAM message')\n",
        "else:\n",
        "  print('This is a SPAM message')"
      ],
      "metadata": {
        "colab": {
          "base_uri": "https://localhost:8080/"
        },
        "id": "2QkoIOuXM2hE",
        "outputId": "f16c3edb-e700-483f-c351-86878f697a93"
      },
      "execution_count": null,
      "outputs": [
        {
          "output_type": "stream",
          "name": "stdout",
          "text": [
            "[0]\n",
            "This is a SPAM message\n"
          ]
        }
      ]
    }
  ]
}